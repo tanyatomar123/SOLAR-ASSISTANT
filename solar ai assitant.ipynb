{
  "nbformat": 4,
  "nbformat_minor": 0,
  "metadata": {
    "colab": {
      "provenance": []
    },
    "kernelspec": {
      "name": "python3",
      "display_name": "Python 3"
    },
    "language_info": {
      "name": "python"
    }
  },
  "cells": [
    {
      "cell_type": "code",
      "source": [
        "import gradio as gr\n",
        "import cv2\n",
        "import numpy as np\n",
        "from PIL import Image\n",
        "\n",
        "# Custom CSS for branding\n",
        "custom_css = \"\"\"\n",
        ".gradio-container {\n",
        "    font-family: 'Arial', sans-serif;\n",
        "}\n",
        "h1 {\n",
        "    color: #2a6496;\n",
        "    text-align: center;\n",
        "}\n",
        ".footer {\n",
        "    text-align: center;\n",
        "    font-size: 0.8em;\n",
        "    color: #555;\n",
        "}\n",
        "\"\"\"\n",
        "\n",
        "def analyze_rooftop(image):\n",
        "    try:\n",
        "        img = np.array(image)\n",
        "        img = cv2.cvtColor(img, cv2.COLOR_RGB2BGR)\n",
        "        gray = cv2.cvtColor(img, cv2.COLOR_BGR2GRAY)\n",
        "        edges = cv2.Canny(gray, 100, 200)\n",
        "        roof_area = np.sum(edges > 0) / 1000\n",
        "        panel_capacity_kw = round(roof_area * 0.15, 2)\n",
        "        annual_energy_kwh = int(panel_capacity_kw * 1200)\n",
        "        roi_years = round(10000 / annual_energy_kwh, 1)\n",
        "\n",
        "        report = f\"\"\"\n",
        "        ⚡ AI Solar Assistant Report:\n",
        "        ----------------------------\n",
        "        - Estimated Rooftop Area: ~{roof_area:.1f} sqm\n",
        "        - Recommended Solar Capacity: {panel_capacity_kw} kW\n",
        "        - Annual Energy Generation: {annual_energy_kwh} kWh\n",
        "        - Payback Period: ~{roi_years} years\n",
        "        ----------------------------\n",
        "        Tip: For accurate results, use a top-down rooftop image.\n",
        "        \"\"\"\n",
        "        return report\n",
        "    except Exception as e:\n",
        "        return f\"⚠️ Error: {str(e)}\"\n",
        "\n",
        "# Gradio Interface with Custom Theme\n",
        "demo = gr.Interface(\n",
        "    fn=analyze_rooftop,\n",
        "    inputs=gr.Image(type=\"pil\", label=\"Upload Rooftop Image\"),\n",
        "    outputs=gr.Textbox(label=\"Analysis Report\", lines=10),\n",
        "    title=\"🔆 AI Solar Assistant\",\n",
        "    description=\"**Upload a rooftop image to estimate solar panel potential.**\",\n",
        "    css=custom_css,\n",
        "    theme=gr.themes.Soft(primary_hue=\"blue\"),  # Modern theme\n",
        "    examples=[\n",
        "        [\"flat_roof.jpg\"],\n",
        "        [\"angled_roof.jpg\"]\n",
        "    ],\n",
        "    allow_flagging=\"never\"\n",
        ")\n",
        "\n",
        "# Add a footer\n",
        "demo.footer = \"\"\"\n",
        "<p class=\"footer\">Powered by OpenCV & Gradio | © 2024 AI Solar Assistant</p>\n",
        "\"\"\"\n",
        "\n",
        "demo.launch(share=True)"
      ],
      "metadata": {
        "colab": {
          "base_uri": "https://localhost:8080/",
          "height": 650
        },
        "id": "5o-Mvrfzl6uf",
        "outputId": "a3154bdb-b7a1-4ee1-f792-8e76a4ba87a9"
      },
      "execution_count": 6,
      "outputs": [
        {
          "output_type": "stream",
          "name": "stderr",
          "text": [
            "/usr/local/lib/python3.11/dist-packages/gradio/interface.py:416: UserWarning: The `allow_flagging` parameter in `Interface` is deprecated.Use `flagging_mode` instead.\n",
            "  warnings.warn(\n"
          ]
        },
        {
          "output_type": "stream",
          "name": "stdout",
          "text": [
            "Colab notebook detected. To show errors in colab notebook, set debug=True in launch()\n",
            "* Running on public URL: https://a087076e0ae4d729db.gradio.live\n",
            "\n",
            "This share link expires in 1 week. For free permanent hosting and GPU upgrades, run `gradio deploy` from the terminal in the working directory to deploy to Hugging Face Spaces (https://huggingface.co/spaces)\n"
          ]
        },
        {
          "output_type": "display_data",
          "data": {
            "text/plain": [
              "<IPython.core.display.HTML object>"
            ],
            "text/html": [
              "<div><iframe src=\"https://a087076e0ae4d729db.gradio.live\" width=\"100%\" height=\"500\" allow=\"autoplay; camera; microphone; clipboard-read; clipboard-write;\" frameborder=\"0\" allowfullscreen></iframe></div>"
            ]
          },
          "metadata": {}
        },
        {
          "output_type": "execute_result",
          "data": {
            "text/plain": []
          },
          "metadata": {},
          "execution_count": 6
        }
      ]
    }
  ]
}
